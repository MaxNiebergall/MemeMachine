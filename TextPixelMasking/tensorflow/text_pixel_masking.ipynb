{
 "cells": [
  {
   "cell_type": "code",
   "execution_count": null,
   "metadata": {},
   "outputs": [],
   "source": [
    "'''This script goes along the blog post\n",
    "\"Building powerful image classification models using very little data\"\n",
    "from blog.keras.io.\n",
    "It uses data that can be downloaded at:\n",
    "https://www.kaggle.com/c/dogs-vs-cats/data\n",
    "In our setup, we:\n",
    "- created a data/ folder\n",
    "- created train/ and validation/ subfolders inside data/\n",
    "- created cats/ and dogs/ subfolders inside train/ and validation/\n",
    "- put the cat pictures index 0-999 in data/train/cats\n",
    "- put the cat pictures index 1000-1400 in data/validation/cats\n",
    "- put the dogs pictures index 12500-13499 in data/train/dogs\n",
    "- put the dog pictures index 13500-13900 in data/validation/dogs\n",
    "So that we have 1000 training examples for each class, and 400 validation examples for each class.\n",
    "In summary, this is our directory structure:\n",
    "```\n",
    "data/\n",
    "    train/\n",
    "        dogs/\n",
    "            dog001.jpg\n",
    "            dog002.jpg\n",
    "            ...\n",
    "        cats/\n",
    "            cat001.jpg\n",
    "            cat002.jpg\n",
    "            ...\n",
    "    validation/\n",
    "        dogs/\n",
    "            dog001.jpg\n",
    "            dog002.jpg\n",
    "            ...\n",
    "        cats/\n",
    "            cat001.jpg\n",
    "            cat002.jpg\n",
    "            ...\n",
    "```\n",
    "'''\n",
    "from generate_training_validation_data import TextMaskImageDataGenerator\n",
    "from keras.models import Sequential\n",
    "from keras.layers import Conv2D, MaxPooling2D\n",
    "from keras.layers import Activation, Dropout, Flatten, Dense\n",
    "from keras import backend as K\n",
    "\n",
    "# dimensions of our images.\n",
    "img_width, img_height = 64, 64\n",
    "train_data_dir = 'D:/MemeMachine_ProjectData/dataset/training'\n",
    "validation_data_dir = 'D:/MemeMachine_ProjectData/dataset/validation'\n",
    "epochs = 50\n",
    "batch_size = 32"
   ]
  },
  {
   "cell_type": "code",
   "execution_count": null,
   "metadata": {},
   "outputs": [],
   "source": [
    "if K.image_data_format() == 'channels_first':\n",
    "    input_shape = (3, img_width, img_height)\n",
    "else:\n",
    "    input_shape = (img_width, img_height, 3)\n",
    "\n",
    "# model = Sequential()\n",
    "# model.add(Conv2D(32, (3, 3), input_shape=input_shape))\n",
    "# model.add(Activation('relu'))\n",
    "# model.add(MaxPooling2D(pool_size=(2, 2)))\n",
    "\n",
    "# model.add(Conv2D(32, (3, 3)))\n",
    "# model.add(Activation('relu'))\n",
    "# model.add(MaxPooling2D(pool_size=(2, 2)))\n",
    "\n",
    "# model.add(Conv2D(64, (3, 3)))\n",
    "# model.add(Activation('relu'))\n",
    "# model.add(MaxPooling2D(pool_size=(2, 2)))\n",
    "# # model.add(Dropout(0.5)) TODO consider applying dropout\n",
    "\n",
    "# model.add(Dense(img_width*img_height))\n",
    "# model.add(Activation('sigmoid'))\n",
    "\n",
    "model = Sequential()\n",
    "# model.add(Dense(img_width*img_height))\n",
    "# model.add(Activation('relu'))\n",
    "model.add(K.Input(shape=(16,)))\n",
    "model.add(Dense(img_width*img_height))\n",
    "model.add(Activation('sigmoid'))\n",
    "\n",
    "model.compile(loss='MeanSquaredError', # Mean Squared Error should be good for this application because we are really just trying to predict whether or not a given pixel is in the mask\n",
    "              optimizer='Adam',\n",
    "              metrics=['accuracy'])"
   ]
  },
  {
   "cell_type": "code",
   "execution_count": null,
   "metadata": {},
   "outputs": [],
   "source": [
    "import tensorflow as tf\n",
    "\n",
    "inputs = tf.keras.Input(shape=(img_width, img_height, 3))\n",
    "x = tf.keras.layers.Dense(4, activation=tf.nn.relu)(inputs)\n",
    "outputs = tf.keras.layers.Dense(5, activation=tf.nn.softmax)(x)\n",
    "model = tf.keras.Model(inputs=inputs, outputs=outputs)\n",
    "\n",
    "model.compile(loss='MeanSquaredError', # Mean Squared Error should be good for this application because we are really just trying to predict whether or not a given pixel is in the mask\n",
    "              optimizer='Adam',\n",
    "              metrics=['accuracy'])"
   ]
  },
  {
   "cell_type": "code",
   "execution_count": null,
   "metadata": {},
   "outputs": [],
   "source": [
    "partition = dict()\n",
    "partition['train'] = [] #list of image ids (\"i.e., the file name of the image\")\n",
    "partition['validation'] = [] #list of image ids (\"i.e., the file name of the image\")\n",
    "\n",
    "import os\n",
    "#load the data\n",
    "for file_ in  os.listdir(train_data_dir+\"/\"):\n",
    "    partition['train'].append(str(train_data_dir+\"/\"+file_))\n",
    "for file_ in  os.listdir(validation_data_dir+\"/\"):\n",
    "    partition['validation'].append(str(validation_data_dir+\"/\"+file_))\n",
    "\n",
    "nb_train_samples = 1 #len(partition['train'])\n",
    "nb_validation_samples = 1 #len(partition['validation'])"
   ]
  },
  {
   "cell_type": "code",
   "execution_count": null,
   "metadata": {},
   "outputs": [],
   "source": [
    "# Generators\n",
    "training_generator = TextMaskImageDataGenerator(partition['train'], x_size=img_width, y_size=img_height, batch_size=batch_size)\n",
    "validation_generator = TextMaskImageDataGenerator(partition['validation'], x_size=img_width, y_size=img_height, batch_size=batch_size)"
   ]
  },
  {
   "cell_type": "code",
   "execution_count": null,
   "metadata": {},
   "outputs": [],
   "source": [
    "# X, y = training_generator.__getitem__(0)\n",
    "# import cv2 as cv\n",
    "# cv.imshow('X0',X[0])\n",
    "# cv.imshow('y0',y[0])\n",
    "# cv.waitKey(0)\n",
    "\n"
   ]
  },
  {
   "cell_type": "code",
   "execution_count": null,
   "metadata": {},
   "outputs": [],
   "source": [
    "model.fit(x=training_generator,\n",
    "    steps_per_epoch=1,\n",
    "    epochs=1,\n",
    "    validation_data=validation_generator,\n",
    "    validation_steps=1,\n",
    "    use_multiprocessing=True,\n",
    "    workers=11, verbose=1)"
   ]
  },
  {
   "cell_type": "code",
   "execution_count": null,
   "metadata": {},
   "outputs": [],
   "source": [
    "# model.fit(x=training_generator,\n",
    "#     steps_per_epoch=nb_train_samples // batch_size,\n",
    "#     epochs=epochs,\n",
    "#     validation_data=validation_generator,\n",
    "#     validation_steps=nb_validation_samples // batch_size,\n",
    "#     use_multiprocessing=True,\n",
    "#     workers=11, verbose=1)"
   ]
  },
  {
   "cell_type": "code",
   "execution_count": null,
   "metadata": {},
   "outputs": [],
   "source": [
    "model.save_weights('first_try.h5')\n"
   ]
  },
  {
   "cell_type": "code",
   "execution_count": null,
   "metadata": {},
   "outputs": [],
   "source": [
    "model.build((img_width, img_height, 3))\n",
    "model.summary()"
   ]
  }
 ],
 "metadata": {
  "interpreter": {
   "hash": "b92bbf7f45469ceb61fbd6377f17e45957889959d16753038f004ccdc4b41b88"
  },
  "kernelspec": {
   "display_name": "Python 3.6.8 64-bit",
   "language": "python",
   "name": "python3"
  },
  "language_info": {
   "codemirror_mode": {
    "name": "ipython",
    "version": 3
   },
   "file_extension": ".py",
   "mimetype": "text/x-python",
   "name": "python",
   "nbconvert_exporter": "python",
   "pygments_lexer": "ipython3",
   "version": "3.6.8"
  },
  "orig_nbformat": 4
 },
 "nbformat": 4,
 "nbformat_minor": 2
}
